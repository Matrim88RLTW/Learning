{
 "cells": [
  {
   "cell_type": "code",
   "execution_count": 18,
   "metadata": {},
   "outputs": [
    {
     "name": "stdout",
     "output_type": "stream",
     "text": [
      "Press 's' to start playing.\n",
      "Once started press 'q' to quit.\n",
      "FPS: 5.292063111542902\n",
      "FPS: 5.299177133067425\n",
      "FPS: 5.3017291940539994\n",
      "FPS: 5.878483702195232\n",
      "FPS: 5.757483912059915\n",
      "FPS: 5.692162376366617\n",
      "FPS: 5.9101341449667455\n",
      "FPS: 5.718400763488871\n",
      "FPS: 5.301032324600872\n",
      "FPS: 5.353742625415798\n",
      "FPS: 5.7507897507897505\n",
      "FPS: 5.762973995674648\n",
      "FPS: 5.729383432436014\n",
      "FPS: 5.280005035405193\n",
      "FPS: 5.775361071600199\n",
      "FPS: 5.870962955705018\n",
      "FPS: 5.305988095915798\n",
      "FPS: 5.829737847601072\n",
      "FPS: 5.822260411359942\n",
      "FPS: 5.826441849545893\n",
      "FPS: 5.304981438969942\n",
      "FPS: 5.845825778028034\n",
      "FPS: 5.800231494606065\n",
      "FPS: 5.34599761142742\n",
      "FPS: 5.370042608980662\n",
      "FPS: 4.931075752481231\n",
      "FPS: 5.3073241839030425\n",
      "FPS: 5.326512910841347\n",
      "FPS: 5.731278020625093\n",
      "FPS: 5.861298251939301\n",
      "FPS: 5.82883046892697\n",
      "FPS: 5.790542247600219\n",
      "FPS: 5.791461734109155\n",
      "FPS: 5.799301203053469\n",
      "FPS: 4.867210445757282\n",
      "FPS: 4.47049569450203\n",
      "FPS: 3.721713390275976\n",
      "FPS: 4.568396264947779\n",
      "Detected\n",
      "FPS: 4.536923379795388\n",
      "Detected\n",
      "FPS: 5.304444711432058\n",
      "Detected\n",
      "FPS: 5.827939568341325\n",
      "Detected\n",
      "FPS: 5.013008495441529\n",
      "Detected\n",
      "FPS: 5.293312030369344\n",
      "Detected\n",
      "FPS: 5.876754036297605\n",
      "Detected\n",
      "FPS: 5.754498033953742\n",
      "Detected\n",
      "FPS: 5.805763262729812\n",
      "Detected\n",
      "FPS: 5.780972963436687\n",
      "Detected\n",
      "FPS: 5.796079569402124\n",
      "Detected\n",
      "FPS: 5.326127370805693\n",
      "Detected\n",
      "FPS: 5.8071297634673\n",
      "Detected\n",
      "FPS: 5.8258510695926224\n",
      "Detected\n",
      "FPS: 5.34599761142742\n",
      "Detected\n",
      "FPS: 5.809116355341465\n",
      "Detected\n",
      "FPS: 5.79106192148806\n",
      "Detected\n",
      "FPS: 5.813150016631556\n",
      "Detected\n",
      "FPS: 5.881756377751352\n",
      "Detected\n",
      "FPS: 5.831748048925292\n",
      "Detected\n",
      "FPS: 5.790798075396414\n",
      "Detected\n"
     ]
    }
   ],
   "source": [
    "import keyboard\n",
    "import mss\n",
    "import cv2\n",
    "import numpy as np\n",
    "from time import time\n",
    "\n",
    "print(\"Press 's' to start playing.\")\n",
    "print(\"Once started press 'q' to quit.\")\n",
    "keyboard.wait('s')\n",
    "startUp = True\n",
    "sct = mss.mss()\n",
    "dimensions = {\n",
    "        'left': 0,\n",
    "        'top': 1,\n",
    "        'width': 1920,\n",
    "        'height': 1080\n",
    "    }\n",
    "stone = cv2.imread('stone.png', -1)\n",
    "\n",
    "fps_time = time()\n",
    "while True:\n",
    "\n",
    "    if startUp:\n",
    "        scr = np.array(sct.grab(dimensions))\n",
    "        target = stone\n",
    "\n",
    "    # Cut off alpha\n",
    "    scr_remove = scr[:,:,:3]\n",
    "\n",
    "    result = cv2.matchTemplate(scr_remove, target, cv2.TM_CCOEFF_NORMED)\n",
    "    \n",
    "    _, max_val, _, max_loc = cv2.minMaxLoc(result)\n",
    "    detected = False\n",
    "    if max_val > .85:\n",
    "            thisdict = {\"Node\" : \"Stone\", \"Max Val\" : {max_val}, \"Max Loc\" : {max_loc}}\n",
    "            detected = True\n",
    "            print(\"Detected\")\n",
    "    cv2.waitKey(1)\n",
    "    if keyboard.is_pressed('q'):\n",
    "        break\n",
    "    print('FPS: {}'.format(1 / (time() - fps_time)))\n",
    "    fps_time = time()"
   ]
  },
  {
   "cell_type": "code",
   "execution_count": 19,
   "metadata": {},
   "outputs": [
    {
     "name": "stdout",
     "output_type": "stream",
     "text": [
      "{'Node': 'Stone', 'Max Val': {0.9328032732009888}, 'Max Loc': {(931, 229)}}\n"
     ]
    }
   ],
   "source": [
    "\n",
    "print(thisdict)\n",
    "\n",
    "\n",
    "\n"
   ]
  },
  {
   "cell_type": "code",
   "execution_count": null,
   "metadata": {},
   "outputs": [],
   "source": []
  }
 ],
 "metadata": {
  "kernelspec": {
   "display_name": "Python 3",
   "language": "python",
   "name": "python3"
  },
  "language_info": {
   "codemirror_mode": {
    "name": "ipython",
    "version": 3
   },
   "file_extension": ".py",
   "mimetype": "text/x-python",
   "name": "python",
   "nbconvert_exporter": "python",
   "pygments_lexer": "ipython3",
   "version": "3.11.1"
  },
  "orig_nbformat": 4,
  "vscode": {
   "interpreter": {
    "hash": "bcccce2f35469011dcc36b81e2996432a3ec73d09a086512afff180783197cfd"
   }
  }
 },
 "nbformat": 4,
 "nbformat_minor": 2
}
