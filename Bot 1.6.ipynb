{
 "cells": [
  {
   "cell_type": "code",
   "execution_count": 285,
   "metadata": {},
   "outputs": [],
   "source": [
    "# Goal is to make this a class that implements live data pull and object recognition.\n",
    "# Packages\n",
    "import keyboard\n",
    "import mss\n",
    "import cv2\n",
    "import numpy as np\n",
    "from time import time\n",
    "import time\n",
    "import pyautogui as pg\n",
    "from pyclick import HumanClicker\n",
    "hc = HumanClicker()\n",
    "import sys\n",
    "pg.FAILSAFE=True\n",
    "pg.pause = 2\n",
    "startUp = True"
   ]
  },
  {
   "cell_type": "code",
   "execution_count": 286,
   "metadata": {},
   "outputs": [],
   "source": [
    "def moveRight():\n",
    "    # randomized coordinate boundaries for mouse movement\n",
    "    sx=np.random.randint(1800, 1900)\n",
    "    sy=np.random.randint(400, 500)\n",
    "    ex=np.random.randint(300, 350)\n",
    "    ey=np.random.randint(400, 500)\n",
    "    tr=np.random.randint(0.1, 2)\n",
    "    # mouse movement utilizing bezier curve+left button drag\n",
    "    hc.move((sx, sy))\n",
    "    pg.mouseDown()\n",
    "    hc.move((ex, ey))\n",
    "    pg.mouseUp()\n",
    "def moveLeft():\n",
    "    # randomized coordinate boundaries for mouse movement\n",
    "    sx=np.random.randint(1800, 1900)\n",
    "    sy=np.random.randint(400, 500)\n",
    "    ex=np.random.randint(300, 350)\n",
    "    ey=np.random.randint(400, 500)\n",
    "    tr=np.random.randint(2, 3)\n",
    "    # mouse movement utilizing bezier curve+left button drag\n",
    "    hc.move((ex, ey), tr)\n",
    "    pg.mouseDown()\n",
    "    hc.move((sx, sy), tr)\n",
    "    pg.mouseUp()"
   ]
  },
  {
   "cell_type": "code",
   "execution_count": 287,
   "metadata": {},
   "outputs": [],
   "source": [
    "\n",
    "def share():\n",
    "    # Randomization\n",
    "    selVar1 = np.random.randint(1, 5)\n",
    "    selVar2 = np.random.randint(5, 7)\n",
    "    # Locate object\n",
    "    x,y= pg.locateCenterOnScreen('share.png', confidence = 0.6)\n",
    "    # Click on object\n",
    "    pg.click(x=x+selVar1,y=y-selVar2)\n",
    "    time.sleep(np.random.randint(1,2))\n",
    "    pg.click(x=1135+selVar1,y=538+selVar2)\n",
    "    time.sleep(np.random.randint(1,2))\n",
    "    pg.click(x=963+selVar1,y=708+selVar2)"
   ]
  },
  {
   "cell_type": "code",
   "execution_count": 288,
   "metadata": {},
   "outputs": [
    {
     "name": "stdout",
     "output_type": "stream",
     "text": [
      "Point(x=275, y=274)\n"
     ]
    }
   ],
   "source": [
    "print(pg.position())"
   ]
  },
  {
   "cell_type": "code",
   "execution_count": 289,
   "metadata": {},
   "outputs": [],
   "source": [
    "def moveDown():\n",
    "    # randomized coordinate boundaries for mouse movement\n",
    "    sx=np.random.randint(900, 1000)\n",
    "    sy=np.random.randint(100, 200)\n",
    "    ex=np.random.randint(900, 1000)\n",
    "    ey=np.random.randint(700, 800)\n",
    "    tr=np.random.randint(0.1, 2)\n",
    "    # mouse movement utilizing bezier curve+left button drag\n",
    "    hc.move((sx, sy), tr)\n",
    "    pg.mouseDown()\n",
    "    hc.move((ex, ey), tr)\n",
    "    pg.mouseUp()\n",
    "def moveUp():\n",
    "    # randomized coordinate boundaries for mouse movement\n",
    "    sx=np.random.randint(900, 1000)\n",
    "    sy=np.random.randint(100, 200)\n",
    "    ex=np.random.randint(900, 1000)\n",
    "    ey=np.random.randint(700, 800)\n",
    "    tr=np.random.randint(0.1, 2)\n",
    "    # mouse movement utilizing bezier curve+left button drag\n",
    "    hc.move((ex, ey), tr)\n",
    "    pg.mouseDown()\n",
    "    hc.move((sx, sy), tr)\n",
    "    pg.mouseUp()\n"
   ]
  },
  {
   "cell_type": "code",
   "execution_count": 290,
   "metadata": {},
   "outputs": [],
   "source": [
    "def finder():   \n",
    "    #E/C/Startup\n",
    "    # Need automatic initialization of boundaries ###################################\n",
    "    sct = mss.mss()\n",
    "    dimensions = {\n",
    "            'left': 0,\n",
    "            'top': 1,\n",
    "            'width': 1920,\n",
    "            'height': 1080\n",
    "        }\n",
    "    # Need an input or cycle function to cycle target #################################\n",
    "    target = cv2.imread('crystal_mine.png', cv2.IMREAD_UNCHANGED)\n",
    "    # Sys\n",
    "    while True:\n",
    "        if startUp:  \n",
    "            # Converts bounded area\n",
    "            scr = np.array(sct.grab(dimensions))\n",
    "        # Cut off alpha\n",
    "        scr_remove = scr[:,:,:3]\n",
    "        # Magic\n",
    "        result = cv2.matchTemplate(scr_remove, target, cv2.TM_CCOEFF_NORMED)    \n",
    "        _, max_val, min_loc, max_loc = cv2.minMaxLoc(result)\n",
    "        # Threshold\n",
    "        detected = False\n",
    "        if max_val > .85:\n",
    "                detected = True\n",
    "                share()\n",
    "        else:\n",
    "            moveRight()"
   ]
  },
  {
   "cell_type": "code",
   "execution_count": 297,
   "metadata": {},
   "outputs": [
    {
     "name": "stdout",
     "output_type": "stream",
     "text": [
      "Press S to start, Q to stop once started\n"
     ]
    }
   ],
   "source": [
    "print('Press S to start, Q to stop once started')\n",
    "keyboard.wait('s')\n",
    "while True:\n",
    "    for i in range(0,50,1):\n",
    "        cv2.waitKey(1)\n",
    "        if keyboard.is_pressed('q'):\n",
    "            sys.exit()\n",
    "        finder()"
   ]
  },
  {
   "cell_type": "code",
   "execution_count": null,
   "metadata": {},
   "outputs": [],
   "source": [
    "sqqqqqqqq"
   ]
  }
 ],
 "metadata": {
  "kernelspec": {
   "display_name": "Python 3",
   "language": "python",
   "name": "python3"
  },
  "language_info": {
   "codemirror_mode": {
    "name": "ipython",
    "version": 3
   },
   "file_extension": ".py",
   "mimetype": "text/x-python",
   "name": "python",
   "nbconvert_exporter": "python",
   "pygments_lexer": "ipython3",
   "version": "3.11.1"
  },
  "orig_nbformat": 4,
  "vscode": {
   "interpreter": {
    "hash": "bcccce2f35469011dcc36b81e2996432a3ec73d09a086512afff180783197cfd"
   }
  }
 },
 "nbformat": 4,
 "nbformat_minor": 2
}
